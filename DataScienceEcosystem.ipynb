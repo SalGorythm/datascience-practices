{
 "cells": [
  {
   "cell_type": "markdown",
   "id": "a8942e39-3049-41c2-a8a2-401be2bd1000",
   "metadata": {},
   "source": [
    "## Exercise 2"
   ]
  },
  {
   "cell_type": "markdown",
   "id": "6b0bb3e3-595d-4286-bec4-27467de55a05",
   "metadata": {},
   "source": [
    "### Data Science Tools and Ecosystem"
   ]
  },
  {
   "cell_type": "markdown",
   "id": "48eee8f9-d44a-4ec6-8975-269a463c8536",
   "metadata": {},
   "source": [
    "## Exercise 3"
   ]
  },
  {
   "cell_type": "markdown",
   "id": "3bf8b679-087c-45fa-8a56-84d843266e35",
   "metadata": {},
   "source": [
    "#### In this notebook, Data Science Tools and Ecosystem are summarized."
   ]
  },
  {
   "cell_type": "markdown",
   "id": "17c42105-57e5-438c-bc30-2bf5fc177823",
   "metadata": {},
   "source": [
    "## Exercise 4"
   ]
  },
  {
   "cell_type": "markdown",
   "id": "7d3492aa-6d7d-4dcb-a816-f77292bd5781",
   "metadata": {},
   "source": [
    "### Some of the popular languages that Data Scientists use are:\n",
    "1. Python\n",
    "2. R\n",
    "3. Matlab"
   ]
  },
  {
   "cell_type": "markdown",
   "id": "4ed058f8-2130-4d76-a7c8-8ede57572932",
   "metadata": {},
   "source": [
    "## Exercise 5"
   ]
  },
  {
   "cell_type": "markdown",
   "id": "cef290c4-5375-4ced-80e2-7638b19de8f4",
   "metadata": {},
   "source": [
    "### Some of the commonly used libraries used by Data Scientists include:\n",
    "1. Pandas\n",
    "2. nltk\n",
    "3. scipy\n",
    "4. numpy\n",
    "5. tensorflow\n",
    "6. keras\n",
    "7. matplotlib"
   ]
  },
  {
   "cell_type": "markdown",
   "id": "a26c999e-c6e4-4803-baca-9fea256085d2",
   "metadata": {},
   "source": [
    "## Exercise 6"
   ]
  },
  {
   "cell_type": "markdown",
   "id": "c7485feb-9215-4082-b1cc-637191ed34b6",
   "metadata": {},
   "source": [
    "|Data Science Tools|\n",
    "|---------|\n",
    "|Python |\n",
    "|R |\n",
    "|Jupyter Notebook |\n",
    "|Hadoop |\n",
    "|Google COllab |"
   ]
  },
  {
   "cell_type": "markdown",
   "id": "15879cf2-088c-494b-a8a2-b34b3c273f34",
   "metadata": {},
   "source": [
    "## Exercise 7"
   ]
  },
  {
   "cell_type": "markdown",
   "id": "08762b50-032e-4663-ac30-afcad2efad74",
   "metadata": {},
   "source": [
    "Below are a few examples of evaluating arithmetic expressions in Python:\n",
    "\n",
    "- **Addition (`+`)**: For adding two values.  \n",
    "  Example: `3 + 5 = 8`\n",
    "\n",
    "- **Subtraction (`-`)**: For subtracting two values, ideally subtracts left hand side from right hand.  \n",
    "  Example: `10 - 4 = 6`\n",
    "\n",
    "- **Multiplication (`*`)**: Multiplies 2 numbers or values.  \n",
    "  Example: `6 * 7 = 42`\n",
    "\n",
    "- **Division (`/`)**: Divides two number or values.  \n",
    "  Example: `8 / 2 = 4.0`"
   ]
  },
  {
   "cell_type": "markdown",
   "id": "5fd242bf-7263-4752-832e-1bb1fbeacec8",
   "metadata": {},
   "source": [
    "## Exercise 8"
   ]
  },
  {
   "cell_type": "code",
   "execution_count": 65,
   "id": "de1fa7e5-85d3-47e5-acbd-545cef1df693",
   "metadata": {},
   "outputs": [
    {
     "data": {
      "text/plain": [
       "17"
      ]
     },
     "execution_count": 65,
     "metadata": {},
     "output_type": "execute_result"
    }
   ],
   "source": [
    "### This a simple arithmetic expression to mutiply then add integers\n",
    "(3*4)+5"
   ]
  },
  {
   "cell_type": "markdown",
   "id": "d5621177-0aab-4d0a-84dc-3d16d911a30d",
   "metadata": {},
   "source": [
    "## Excercise 9"
   ]
  },
  {
   "cell_type": "code",
   "execution_count": 67,
   "id": "8b092ed5-4a4b-43fc-8216-f601561b35b4",
   "metadata": {},
   "outputs": [
    {
     "data": {
      "text/plain": [
       "3.3333333333333335"
      ]
     },
     "execution_count": 67,
     "metadata": {},
     "output_type": "execute_result"
    }
   ],
   "source": [
    "## This will convert 200 minutes to hours by diving by 60\n",
    "200/60"
   ]
  },
  {
   "cell_type": "markdown",
   "id": "8f9ef7d8-8fc4-48d5-ad33-0f447f13b3cc",
   "metadata": {},
   "source": [
    "## Excercise 10"
   ]
  },
  {
   "cell_type": "markdown",
   "id": "eac3876d-96d0-49a3-bbcc-8c97bfc07b5b",
   "metadata": {},
   "source": [
    "### Objectives:\n",
    "- Tools for data science\n",
    "- Most popular languages\n",
    "- Intro to jupyter notebook and how to work with these"
   ]
  },
  {
   "cell_type": "markdown",
   "id": "2a618a39-3b81-49a2-bb01-a690b6522fb0",
   "metadata": {},
   "source": [
    "## Excercise 11"
   ]
  },
  {
   "cell_type": "markdown",
   "id": "33dc214b-8806-4a37-8462-1aa6525c920e",
   "metadata": {},
   "source": [
    "## Author\n",
    "Salman Akhatar"
   ]
  },
  {
   "cell_type": "code",
   "execution_count": null,
   "id": "4b907f2e-befa-45c4-af59-fabc1d776c0c",
   "metadata": {},
   "outputs": [],
   "source": []
  },
  {
   "cell_type": "code",
   "execution_count": null,
   "id": "7e88f5be-ce49-46c0-8aca-f347f424acd0",
   "metadata": {},
   "outputs": [],
   "source": []
  },
  {
   "cell_type": "code",
   "execution_count": null,
   "id": "dcf17eb5-eb62-4972-8e28-4ecb7727a450",
   "metadata": {},
   "outputs": [],
   "source": []
  },
  {
   "cell_type": "code",
   "execution_count": null,
   "id": "eda3bc95-7e2b-45a2-aa1b-23f926ffb2a6",
   "metadata": {},
   "outputs": [],
   "source": []
  }
 ],
 "metadata": {
  "kernelspec": {
   "display_name": "Python [conda env:base] *",
   "language": "python",
   "name": "conda-base-py"
  },
  "language_info": {
   "codemirror_mode": {
    "name": "ipython",
    "version": 3
   },
   "file_extension": ".py",
   "mimetype": "text/x-python",
   "name": "python",
   "nbconvert_exporter": "python",
   "pygments_lexer": "ipython3",
   "version": "3.12.7"
  }
 },
 "nbformat": 4,
 "nbformat_minor": 5
}
